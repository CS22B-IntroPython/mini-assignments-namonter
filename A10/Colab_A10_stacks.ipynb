{
  "cells": [
    {
      "cell_type": "markdown",
      "source": [
        "##**Stack Questions**"
      ],
      "metadata": {
        "id": "cP32wAV3Yi-4"
      }
    },
    {
      "cell_type": "markdown",
      "source": [
        "## Question 1: Write a function to sort a stack."
      ],
      "metadata": {
        "id": "KqdNjm1oY_ss"
      }
    },
    {
      "cell_type": "code",
      "source": [
        "def size(stack):\n",
        "  return len(stack)\n",
        "\n",
        "def empty(stack):\n",
        "  if len(stack) == 0:\n",
        "    return True\n",
        "  else:\n",
        "    return False\n",
        "\n",
        "def top(stack):\n",
        "  return stack[-1]\n",
        "\n",
        "def sort_stack(stack):\n",
        "  # Your code here\n",
        "  tempStack = []\n",
        "  while(empty(stack) != True):\n",
        "    temp = stack.pop()\n",
        "\n",
        "    while(empty(tempStack) != True and top(tempStack) > temp): #Can reverse > sign to\n",
        "        stack.append(tempStack.pop())\n",
        "\n",
        "    tempStack.append(temp)\n",
        "  return tempStack\n",
        "\n",
        "\n",
        "stack = [34, 3, 31, 98, 92, 23]\n",
        "print(sort_stack(stack))"
      ],
      "metadata": {
        "id": "mb9K46p3Ym0N",
        "colab": {
          "base_uri": "https://localhost:8080/"
        },
        "outputId": "2ebf4232-c9bb-4bf7-d0b8-8b565f754c9d"
      },
      "execution_count": 1,
      "outputs": [
        {
          "output_type": "stream",
          "name": "stdout",
          "text": [
            "[3, 23, 31, 34, 92, 98]\n"
          ]
        }
      ]
    },
    {
      "cell_type": "markdown",
      "metadata": {
        "id": "jFxb6ss_Whwl"
      },
      "source": [
        "## Question 2: Depict the following image as a list.\n",
        "\n",
        "<img src=\"https://miro.medium.com/max/1050/1*XifPIMxbamGKhz5UAEdz2w.png\">\n",
        "\n",
        "#### Queue\n",
        "1. Add the number 9 to the list.\n",
        "2. Remove the first number (7) from the list.\n",
        "\n",
        "#### Stack\n",
        "3. Add the number 4 to the same list.\n",
        "4. Remove the last number added (4) from the list."
      ]
    },
    {
      "cell_type": "code",
      "execution_count": 3,
      "metadata": {
        "id": "XOm7YLTEWhwm",
        "colab": {
          "base_uri": "https://localhost:8080/"
        },
        "outputId": "010c59a0-3e4e-4544-c6e9-90187c681761"
      },
      "outputs": [
        {
          "output_type": "stream",
          "name": "stdout",
          "text": [
            "[3, 1, 6, 8, 9, 4]\n"
          ]
        },
        {
          "output_type": "execute_result",
          "data": {
            "text/plain": [
              "[3, 1, 6, 8, 9]"
            ]
          },
          "metadata": {},
          "execution_count": 3
        }
      ],
      "source": [
        "#Your Answer:\n",
        "myList = [7, 3, 1, 6, 8]\n",
        "\n",
        "myList.append(9) # Add the number 9 to the list.\n",
        "myList.pop(0) #Remove the first number (7) from the list.\n",
        "\n",
        "myList.append(4) #Add the number 4 to the same list.\n",
        "myList.pop() #Remove the last number added (4) from the list.\n",
        "\n",
        "myList\n",
        "\n"
      ]
    },
    {
      "cell_type": "markdown",
      "metadata": {
        "id": "tQ3kgHVtWhwn"
      },
      "source": [
        "#### Question 3: Nodes\n",
        "\n",
        "<img src=\"https://encrypted-tbn0.gstatic.com/images?q=tbn:ANd9GcQW8-twGk0hCILE-muHBnG93hZJh2Qvgs7pVA&s\">\n",
        "\n",
        "1. Use a data structure of your choice to denote the different nodes.\n",
        "\n",
        "2. Create a function that sums all of the \"children\". Test with the node 10 (Expected answer is 37). #Shouldn't answer be 27?\n"
      ]
    },
    {
      "cell_type": "code",
      "execution_count": 22,
      "metadata": {
        "id": "UU0rjzjXWhwn",
        "colab": {
          "base_uri": "https://localhost:8080/"
        },
        "outputId": "1275362f-7f71-4b43-efb7-11e7fc473ece"
      },
      "outputs": [
        {
          "output_type": "stream",
          "name": "stdout",
          "text": [
            "27\n"
          ]
        }
      ],
      "source": [
        "#Your Answer:\n",
        "nodes = {\n",
        "    8: [3, 10],\n",
        "    3: [1, 6],\n",
        "    10: [14],\n",
        "    6: [4, 7],\n",
        "    14: [13],\n",
        "    1: [],\n",
        "    4: [],\n",
        "    7: [],\n",
        "    13: []\n",
        "    }\n",
        "\n",
        "def childrenSum(parentNode):\n",
        "  child = nodes.get(parentNode)\n",
        "  return sum(child) + sum(childrenSum(childNode) for childNode in child) #Recursive function so it can iterate through each node and it's respective children\n",
        "\n",
        "print(childrenSum(10))"
      ]
    }
  ],
  "metadata": {
    "hide_input": false,
    "kernelspec": {
      "display_name": "Python 3",
      "language": "python",
      "name": "python3"
    },
    "language_info": {
      "codemirror_mode": {
        "name": "ipython",
        "version": 3
      },
      "file_extension": ".py",
      "mimetype": "text/x-python",
      "name": "python",
      "nbconvert_exporter": "python",
      "pygments_lexer": "ipython3",
      "version": "3.8.3"
    },
    "toc": {
      "base_numbering": 1,
      "nav_menu": {},
      "number_sections": true,
      "sideBar": true,
      "skip_h1_title": false,
      "title_cell": "Table of Contents",
      "title_sidebar": "Contents",
      "toc_cell": false,
      "toc_position": {},
      "toc_section_display": true,
      "toc_window_display": false
    },
    "colab": {
      "provenance": []
    }
  },
  "nbformat": 4,
  "nbformat_minor": 0
}